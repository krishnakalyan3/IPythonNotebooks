{
 "cells": [
  {
   "cell_type": "code",
   "execution_count": 748,
   "metadata": {
    "collapsed": false
   },
   "outputs": [],
   "source": [
    "import cvxpy as cvx\n",
    "import numpy as np\n",
    "import matplotlib.pyplot as plt\n",
    "import scipy.optimize\n",
    "import sys"
   ]
  },
  {
   "cell_type": "code",
   "execution_count": 749,
   "metadata": {
    "collapsed": false
   },
   "outputs": [],
   "source": [
    "np.random.seed(1234)\n",
    "m = 500    #500\n",
    "n = 100    #100\n",
    "A = np.random.randint(low=-100, high=-50, size=(n, m))\n",
    "b = np.random.randint(low=500, high=1000, size=m) \n",
    "c = np.random.randint(low=-3, high=1, size=n)\n",
    "\n",
    "ITER_MAX = 50\n",
    "EPS = sys.float_info.epsilon"
   ]
  },
  {
   "cell_type": "markdown",
   "metadata": {},
   "source": [
    "Note: b-ax > 0 as log0 is not defined"
   ]
  },
  {
   "cell_type": "code",
   "execution_count": 750,
   "metadata": {
    "collapsed": true
   },
   "outputs": [],
   "source": [
    "def func(x, A, b, c):\n",
    "    \"\"\"\n",
    "    Function Signature\n",
    "    ------------------\n",
    "    x - current function value\n",
    "    A,b,c - input constants\n",
    "    return f(x)\n",
    "    \"\"\"\n",
    "    fx = np.dot(c.T, x) - np.sum(np.log10((b - np.dot(A.T, x))))\n",
    "    return fx"
   ]
  },
  {
   "cell_type": "code",
   "execution_count": 751,
   "metadata": {
    "collapsed": true
   },
   "outputs": [],
   "source": [
    "def grad(x, A, b, c):\n",
    "    \"\"\"\n",
    "    Function Signature\n",
    "    ------------------\n",
    "    x - current function value\n",
    "    A,b,c - input constants\n",
    "    return deravative f(x)\n",
    "    \"\"\"\n",
    "    gradient = A.dot(1.0/(b - A.T.dot(x))) + c\n",
    "    return gradient"
   ]
  },
  {
   "cell_type": "markdown",
   "metadata": {},
   "source": [
    "BackTrack Line Serarch \n",
    "\n",
    "\n",
    "The value of \"t\" or the step length decreases by a factor Beta while the loop is true. Terminating condition is satified when \"gold1\" <= \"gold2\""
   ]
  },
  {
   "cell_type": "code",
   "execution_count": 752,
   "metadata": {
    "collapsed": false
   },
   "outputs": [],
   "source": [
    "def funcback(d,x,A, b, c,ALPHA = 0.1,BETA = 0.5):\n",
    "    \"\"\"\n",
    "    Function Signature\n",
    "    ------------------\n",
    "    d - descent direction\n",
    "    x - current function value\n",
    "    A,b,c - input constants\n",
    "    alpha - A value between 0.01 to 0.3\n",
    "    beta - A value betwen 0.1 to 0.8\n",
    "    T_STEP = 1 (Initial condition)\n",
    "    return step-length\n",
    "    \"\"\"\n",
    "    T_STEP = 1\n",
    "    while True:\n",
    "        gold1 = func(x +t * d, A, b, c)\n",
    "        gold2 = func(x, A, b, c)  + ALPHA * T_STEP * np.dot(grad(x, A, b, c).T , (d))   \n",
    "        T_STEP = T_STEP * BETA\n",
    "        if gold1 <= gold2:\n",
    "            break    \n",
    "    return T_STEP"
   ]
  },
  {
   "cell_type": "markdown",
   "metadata": {},
   "source": [
    "Stopping Condition is satisfied when ||d|| is less than or equal to epsilon. "
   ]
  },
  {
   "cell_type": "code",
   "execution_count": 753,
   "metadata": {
    "collapsed": false
   },
   "outputs": [],
   "source": [
    "np.random.seed(1234)\n",
    "x = np.random.randint(low=1, high=50, size=n)\n",
    "plotarray=[]\n",
    "A = np.random.randint(low=-100, high=-50, size=(n, m))\n",
    "b = np.random.randint(low=500, high=1000, size=m) \n",
    "c = np.random.randint(low=-3, high=1, size=n)\n",
    "for i in range(0,ITER_MAX):\n",
    "    plotarray.append(np.ravel(func(x, A, b, c)))\n",
    "    d = - grad(x, A, b, c)\n",
    "    T_STEP = funcback(d,x, A, b, c)\n",
    "    x = x + T_STEP * d\n",
    "    if np.linalg.norm(d) <= EPS:\n",
    "        break\n"
   ]
  },
  {
   "cell_type": "code",
   "execution_count": 754,
   "metadata": {
    "collapsed": false
   },
   "outputs": [
    {
     "data": {
      "text/plain": [
       "[<matplotlib.lines.Line2D at 0x11e306810>]"
      ]
     },
     "execution_count": 754,
     "metadata": {},
     "output_type": "execute_result"
    },
    {
     "data": {
      "image/png": "[encoded data removed]",
      "text/plain": [
       "<matplotlib.figure.Figure at 0x11e23fb50>"
      ]
     },
     "metadata": {},
     "output_type": "display_data"
    }
   ],
   "source": [
    "%matplotlib inline\n",
    "plt.suptitle('Back Track Line Search', fontsize=14, fontweight='bold')\n",
    "plt.ylabel('function(x)')\n",
    "plt.xlabel('Iterations')\n",
    "\n",
    "plt.plot(np.array(range(0, ITER_MAX)),plotarray  ,'-', color=\"blue\", alpha=1,linewidth=1.0, linestyle=\"-\")"
   ]
  },
  {
   "cell_type": "markdown",
   "metadata": {},
   "source": [
    "Exact Line Search"
   ]
  },
  {
   "cell_type": "code",
   "execution_count": 755,
   "metadata": {
    "collapsed": true
   },
   "outputs": [],
   "source": [
    "def funcexact(d,x,A, b, c):\n",
    "    \"\"\"\n",
    "    Function Signature\n",
    "    ------------------\n",
    "    d - descent direction\n",
    "    x - current function value\n",
    "    A,b,c - input constants\n",
    "    \n",
    "    T_STEP = [.0001,.0005,.001,.005,.01,.05,.1,.5,1,1.5] Initial condition\n",
    "    tempT - dictionary  {T_STEP:f(x+ t*d)}\n",
    "    return step-length\n",
    "    \"\"\"\n",
    "    T_STEP = np.array([.0001,.0005,.001,.005,.01,.05,.1,.5,1,1.5])\n",
    "    tempT= {}\n",
    "    for i in T_STEP:\n",
    "        intermedaite_x = x + i* d\n",
    "        tempT[i]=np.ravel(func(intermedaite_x,A, b, c))\n",
    "          \n",
    "    return min(tempT, key=lambda k: tempT[k])"
   ]
  },
  {
   "cell_type": "code",
   "execution_count": 756,
   "metadata": {
    "collapsed": false
   },
   "outputs": [],
   "source": [
    "np.random.seed(1234)\n",
    "x = np.random.randint(low=1, high=50, size=n)\n",
    "plotarray2=[]\n",
    "for i in range(0,ITER_MAX):\n",
    "    plotarray2.append(np.ravel(func(x, A, b, c)))\n",
    "    d = - grad(x, A, b, c)\n",
    "    T_STEP = funcexact(d,x, A, b, c)\n",
    "    x = x + T_STEP * d\n"
   ]
  },
  {
   "cell_type": "code",
   "execution_count": 757,
   "metadata": {
    "collapsed": false
   },
   "outputs": [
    {
     "data": {
      "text/plain": [
       "[<matplotlib.lines.Line2D at 0x11debf5d0>]"
      ]
     },
     "execution_count": 757,
     "metadata": {},
     "output_type": "execute_result"
    },
    {
     "data": {
      "image/png": "[encoded data removed]",
      "text/plain": [
       "<matplotlib.figure.Figure at 0x11e19b050>"
      ]
     },
     "metadata": {},
     "output_type": "display_data"
    }
   ],
   "source": [
    "%matplotlib inline\n",
    "plt.suptitle('Exact Line Search', fontsize=14, fontweight='bold')\n",
    "plt.ylabel('function(x)')\n",
    "plt.xlabel('Iterations')\n",
    "\n",
    "plt.plot(np.array(range(0, ITER_MAX)),plotarray2  ,'-', color=\"blue\", alpha=1,linewidth=1.0, linestyle=\"-\")"
   ]
  },
  {
   "cell_type": "code",
   "execution_count": 758,
   "metadata": {
    "collapsed": false
   },
   "outputs": [
    {
     "data": {
      "image/png": "[encoded data removed]",
      "text/plain": [
       "<matplotlib.figure.Figure at 0x11e443710>"
      ]
     },
     "metadata": {},
     "output_type": "display_data"
    }
   ],
   "source": [
    "%matplotlib inline\n",
    "\n",
    "plt.suptitle('Descent Method', fontsize=14, fontweight='bold')\n",
    "plt.ylabel('function(x)')\n",
    "plt.xlabel('Iterations')\n",
    "plt.plot(np.array(range(0, ITER_MAX)), plotarray1, label='Backtrack')\n",
    "plt.plot(np.array(range(0, ITER_MAX)), plotarray2, label='Exact Line')\n",
    "plt.legend(loc='upper right')\n",
    "\n",
    "plt.show()"
   ]
  },
  {
   "cell_type": "markdown",
   "metadata": {},
   "source": [
    "Using SciPy Optimize"
   ]
  },
  {
   "cell_type": "code",
   "execution_count": 726,
   "metadata": {
    "collapsed": false
   },
   "outputs": [],
   "source": [
    "\n",
    "def scipyfunc(x,A,b,c,ITER_MAX):\n",
    "    \"\"\"\n",
    "    Function Signature\n",
    "    ------------------\n",
    "    x - current function value\n",
    "    A,b,c - input constants\n",
    "    ITER_MAX - Number of Iterations\n",
    "    func - \"f\" of the function to be minimised\n",
    "    fmin_cg -  Use conjugate gradient algorithm to minimise\n",
    "    return min(f)\n",
    "    \"\"\"\n",
    "    fx = scipy.optimize.fmin_cg(func, x, args=(A,b,c),maxiter=ITER_MAX)\n",
    "    return fx\n"
   ]
  },
  {
   "cell_type": "code",
   "execution_count": null,
   "metadata": {
    "collapsed": true
   },
   "outputs": [],
   "source": [
    "plot = []\n",
    "for i in range(0,ITER_MAX):\n",
    "    op = scipyfunc(x,A,b,c,i)\n",
    "    plot.append(func(op,A, b, c))"
   ]
  },
  {
   "cell_type": "code",
   "execution_count": 759,
   "metadata": {
    "collapsed": false
   },
   "outputs": [
    {
     "data": {
      "text/plain": [
       "[<matplotlib.lines.Line2D at 0x115013590>]"
      ]
     },
     "execution_count": 759,
     "metadata": {},
     "output_type": "execute_result"
    },
    {
     "data": {
      "image/png": "[encoded data removed]",
      "text/plain": [
       "<matplotlib.figure.Figure at 0x11e0b19d0>"
      ]
     },
     "metadata": {},
     "output_type": "display_data"
    }
   ],
   "source": [
    "%matplotlib inline\n",
    "plt.suptitle('SCIPY CG', fontsize=14, fontweight='bold')\n",
    "plt.ylabel('function(x)')\n",
    "plt.xlabel('Iterations')\n",
    "plt.plot(np.array(range(0, ITER_MAX)),plot ,'-', color=\"blue\", alpha=1,linewidth=1.0, linestyle=\"-\")"
   ]
  },
  {
   "cell_type": "code",
   "execution_count": null,
   "metadata": {
    "collapsed": true
   },
   "outputs": [],
   "source": []
  },
  {
   "cell_type": "code",
   "execution_count": null,
   "metadata": {
    "collapsed": true
   },
   "outputs": [],
   "source": []
  }
 ],
 "metadata": {
  "kernelspec": {
   "display_name": "Python 2",
   "language": "python",
   "name": "python2"
  },
  "language_info": {
   "codemirror_mode": {
    "name": "ipython",
    "version": 2
   },
   "file_extension": ".py",
   "mimetype": "text/x-python",
   "name": "python",
   "nbconvert_exporter": "python",
   "pygments_lexer": "ipython2",
   "version": "2.7.9"
  }
 },
 "nbformat": 4,
 "nbformat_minor": 0
}
