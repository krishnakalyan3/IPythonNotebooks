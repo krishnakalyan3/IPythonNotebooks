{
 "cells": [
  {
   "cell_type": "markdown",
   "metadata": {},
   "source": [
    "###### Importing the Libraries to this workspace"
   ]
  },
  {
   "cell_type": "code",
   "execution_count": 41,
   "metadata": {
    "collapsed": false
   },
   "outputs": [],
   "source": [
    "import numpy as np\n",
    "import pandas\n",
    "from cvxpy import *\n",
    "from sklearn.metrics import confusion_matrix\n",
    "from sklearn import metrics\n",
    "import matplotlib.pyplot as plt"
   ]
  },
  {
   "cell_type": "markdown",
   "metadata": {},
   "source": [
    "###### Data Dimensions\n",
    "data(20000,5)  \n",
    "train_x(1000,4)  \n",
    "train_y(1000,1)  \n",
    "test_x(200,4)  \n",
    "test_y(200,1)  "
   ]
  },
  {
   "cell_type": "code",
   "execution_count": 42,
   "metadata": {
    "collapsed": false
   },
   "outputs": [],
   "source": [
    "data = np.genfromtxt('Data/data.txt', delimiter=\" \", usecols=[0,1,2,3,6])\n",
    "\n",
    "# Training Data\n",
    "train_x = data[:,0:4][1:1001]\n",
    "train_y = data[:,4][1:1001]\n",
    "\n",
    "# Test Data\n",
    "test_x = data[:,0:4][1002:1202]\n",
    "test_y = data[:,4][1002:1202]\n",
    "\n",
    "# m =>1000 , n => 4\n",
    "[m,n] = np.shape(train_x)"
   ]
  },
  {
   "cell_type": "markdown",
   "metadata": {},
   "source": [
    "###### Constants and Variables  \n",
    "D(1000 X 1000) is a diagonal matrix of vector train_y  \n",
    "e(1000 X 1) is a vector of ones  \n",
    "nu = scalar\n",
    "\n",
    "(w , gamma , y) are the parameters that need to be optimised  \n",
    "w = 4 X 1  \n",
    "y = 1000 X 1  \n",
    "gamma = scalar"
   ]
  },
  {
   "cell_type": "code",
   "execution_count": 43,
   "metadata": {
    "collapsed": false
   },
   "outputs": [],
   "source": [
    "D = np.diag(train_y)\n",
    "e = np.ones(m)\n",
    "w = Variable(n)\n",
    "gamma = Variable(1)\n",
    "y = Variable(m)\n",
    "nu_min = 0.6"
   ]
  },
  {
   "cell_type": "markdown",
   "metadata": {},
   "source": [
    "###### Finding the best regulirization paramter "
   ]
  },
  {
   "cell_type": "code",
   "execution_count": 44,
   "metadata": {
    "collapsed": true
   },
   "outputs": [],
   "source": [
    "def thresh(yhat):\n",
    "    if yhat >= 0:\n",
    "        return 1\n",
    "    return -1"
   ]
  },
  {
   "cell_type": "code",
   "execution_count": 45,
   "metadata": {
    "collapsed": false
   },
   "outputs": [],
   "source": [
    "cost_reg = {}\n",
    "reg_params = [0.01,0.1,0.3,0.6,0.9,2,7,9,11,14,17,20,30]\n",
    "for nu in reg_params:\n",
    "    objective = Minimize(nu*e.T*y+.5*power(norm(w), 2))\n",
    "    constraints = [D *(train_x*w - e*gamma) + y >= e, y >=0]\n",
    "    prob = Problem(objective, constraints)\n",
    "    prob.solve(),prob.status \n",
    "    ypred = test_x*w.value - gamma.value\n",
    "    yhat = map(lambda x : thresh(x),ypred)\n",
    "    cm = confusion_matrix(test_y, yhat)\n",
    "    cm_sum = cm[0,0] + cm[1,1]\n",
    "    cost_reg[nu]=prob.solve(),cm_sum"
   ]
  },
  {
   "cell_type": "code",
   "execution_count": 46,
   "metadata": {
    "collapsed": false
   },
   "outputs": [
    {
     "data": {
      "text/plain": [
       "{0.01: (7.654546484219935, 160),\n",
       " 0.1: (45.790615340678364, 188),\n",
       " 0.3: (113.39136202822313, 187),\n",
       " 0.6: (207.23175069380662, 189),\n",
       " 0.9: (298.3162453998956, 189),\n",
       " 2: (625.6957026888044, 188),\n",
       " 7: (2090.8990043262997, 189),\n",
       " 9: (2675.478131937883, 188),\n",
       " 11: (3259.8770228925255, 188),\n",
       " 14: (4136.1583725593255, 188),\n",
       " 17: (5012.43696327259, 188),\n",
       " 20: (5888.710171331081, 188),\n",
       " 30: (8809.166969776054, 188)}"
      ]
     },
     "execution_count": 46,
     "metadata": {},
     "output_type": "execute_result"
    }
   ],
   "source": [
    "cost_reg"
   ]
  },
  {
   "cell_type": "markdown",
   "metadata": {},
   "source": [
    "nu_min at 0.6 calssifys maximum points correctly"
   ]
  },
  {
   "cell_type": "code",
   "execution_count": 47,
   "metadata": {
    "collapsed": false
   },
   "outputs": [
    {
     "data": {
      "text/plain": [
       "(207.23175069380662, 'optimal')"
      ]
     },
     "execution_count": 47,
     "metadata": {},
     "output_type": "execute_result"
    }
   ],
   "source": [
    "objective_p = Minimize(nu_min*e.T*y+.5*power(norm(w), 2))\n",
    "constraints_p = [D *(train_x*w - e*gamma) + y >= e, y >=0]\n",
    "prob_p = Problem(objective_p, constraints_p)\n",
    "prob_p.solve(),prob_p.status "
   ]
  },
  {
   "cell_type": "code",
   "execution_count": 48,
   "metadata": {
    "collapsed": false
   },
   "outputs": [],
   "source": [
    "y_p = test_x*w.value - gamma.value \n",
    "yhat = map(lambda x : thresh(x),y_p)"
   ]
  },
  {
   "cell_type": "code",
   "execution_count": 49,
   "metadata": {
    "collapsed": false
   },
   "outputs": [
    {
     "data": {
      "image/png": "[encoded data removed]",
      "text/plain": [
       "<matplotlib.figure.Figure at 0x10ee20350>"
      ]
     },
     "metadata": {},
     "output_type": "display_data"
    },
    {
     "data": {
      "text/plain": [
       "array([[107,   8],\n",
       "       [  3,  82]])"
      ]
     },
     "execution_count": 49,
     "metadata": {},
     "output_type": "execute_result"
    }
   ],
   "source": [
    "%matplotlib inline\n",
    "\n",
    "cm = confusion_matrix(test_y, yhat)\n",
    "\n",
    "plt.matshow(cm)\n",
    "plt.title('Confusion matrix')\n",
    "plt.colorbar()\n",
    "plt.ylabel('True label')\n",
    "plt.xlabel('Predicted label')\n",
    "plt.show()\n",
    "cm"
   ]
  },
  {
   "cell_type": "code",
   "execution_count": 50,
   "metadata": {
    "collapsed": false
   },
   "outputs": [
    {
     "name": "stdout",
     "output_type": "stream",
     "text": [
      "precision =  0.972727272727\n",
      "recall =  0.930434782609\n",
      "F1 score =  0.951111111111\n"
     ]
    }
   ],
   "source": [
    "TP = float(cm[0,0])\n",
    "TN = float(cm[1,1])\n",
    "FP = float(cm[1,0])\n",
    "FN = float(cm[0,1])\n",
    "precision = TP/(TP+FP)\n",
    "recall = TP/(TP+FN)\n",
    "F1= 2 * (precision * recall)/(precision+recall)\n",
    "print \"precision = \",precision\n",
    "print \"recall = \", recall\n",
    "print \"F1 score = \", F1"
   ]
  }
 ],
 "metadata": {
  "kernelspec": {
   "display_name": "Python 2",
   "language": "python",
   "name": "python2"
  },
  "language_info": {
   "codemirror_mode": {
    "name": "ipython",
    "version": 2
   },
   "file_extension": ".py",
   "mimetype": "text/x-python",
   "name": "python",
   "nbconvert_exporter": "python",
   "pygments_lexer": "ipython2",
   "version": "2.7.9"
  }
 },
 "nbformat": 4,
 "nbformat_minor": 0
}
