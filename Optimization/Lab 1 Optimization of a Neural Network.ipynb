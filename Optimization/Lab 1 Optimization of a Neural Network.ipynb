{
 "cells": [
  {
   "cell_type": "code",
   "execution_count": 1,
   "metadata": {
    "collapsed": false
   },
   "outputs": [
    {
     "name": "stderr",
     "output_type": "stream",
     "text": [
      "INFO: Updating METADATA...\n",
      "INFO: Computing changes...\n",
      "INFO: No packages to install, update or remove\n",
      "INFO: Nothing to be done\n",
      "INFO: Nothing to be done\n",
      "WARNING: Base.String is deprecated, use AbstractString instead.\n",
      "  likely near /home/juser/.julia/v0.4/MLBase/src/modeltune.jl:5\n",
      "WARNING: Base.String is deprecated, use AbstractString instead.\n",
      "  likely near /home/juser/.julia/v0.4/MLBase/src/modeltune.jl:5\n",
      "WARNING: Base.String is deprecated, use AbstractString instead.\n",
      "  likely near /home/juser/.julia/v0.4/MLBase/src/modeltune.jl:5\n",
      "WARNING: Base.FloatingPoint is deprecated, use AbstractFloat instead.\n",
      "  likely near /home/juser/.julia/v0.4/MLBase/src/deprecated/datapre.jl:104\n",
      "WARNING: Base.FloatingPoint is deprecated, use AbstractFloat instead.\n",
      "  likely near /home/juser/.julia/v0.4/MLBase/src/deprecated/datapre.jl:105\n",
      "WARNING: Base.FloatingPoint is deprecated, use AbstractFloat instead.\n",
      "  likely near /home/juser/.julia/v0.4/MLBase/src/deprecated/datapre.jl:163\n",
      "WARNING: Base.FloatingPoint is deprecated, use AbstractFloat instead.\n",
      "  likely near /home/juser/.julia/v0.4/MLBase/src/deprecated/datapre.jl:163\n",
      "WARNING: Base.FloatingPoint is deprecated, use AbstractFloat instead.\n",
      "  likely near /home/juser/.julia/v0.4/MLBase/src/deprecated/datapre.jl:163\n"
     ]
    }
   ],
   "source": [
    "Pkg.update()\n",
    "Pkg.add(\"LsqFit\")\n",
    "Pkg.add(\"MLBase\")\n",
    "using LsqFit, Distributions, MLBase"
   ]
  },
  {
   "cell_type": "code",
   "execution_count": 2,
   "metadata": {
    "collapsed": false
   },
   "outputs": [],
   "source": [
    "# Training Data with 100 rows\n",
    "X = readdlm(\"data_x.txt\", ' ')[:,2:5];\n",
    "Y = readdlm(\"data_y.txt\", ' ')[:,2];\n",
    "# Test Data with 100 rows\n",
    "X_test = readdlm(\"data_x_test.txt\", ' ')[:,2:5];\n",
    "Y_test = readdlm(\"data_y_test.txt\", ' ')[:,2];"
   ]
  },
  {
   "cell_type": "code",
   "execution_count": 3,
   "metadata": {
    "collapsed": false
   },
   "outputs": [
    {
     "data": {
      "text/plain": [
       "10-element Array{Float64,1}:\n",
       "  0.125428\n",
       "  0.699879\n",
       " -0.256789\n",
       " -0.433271\n",
       " -0.237744\n",
       " -0.268398\n",
       "  0.670028\n",
       " -0.479952\n",
       "  0.844634\n",
       " -0.919117"
      ]
     },
     "execution_count": 3,
     "metadata": {},
     "output_type": "execute_result"
    }
   ],
   "source": [
    "# Generating a random array with 10 elements\n",
    "srand(12345)\n",
    "W = (rand(Uniform(-1,1), (10,)))"
   ]
  },
  {
   "cell_type": "code",
   "execution_count": 4,
   "metadata": {
    "collapsed": false
   },
   "outputs": [
    {
     "data": {
      "text/plain": [
       "forward (generic function with 1 method)"
      ]
     },
     "execution_count": 4,
     "metadata": {},
     "output_type": "execute_result"
    }
   ],
   "source": [
    "# 3 Layer Neural Network Function\n",
    "function forward(X, W)\n",
    "    f(x) = map(b -> act(b) ,x)\n",
    "    act(x) = (1/(1+exp(-x)))\n",
    "    return f(f(f(X)*reshape(W[1:8],4,2))*W[9:10])\n",
    "end"
   ]
  },
  {
   "cell_type": "code",
   "execution_count": 5,
   "metadata": {
    "collapsed": false
   },
   "outputs": [
    {
     "data": {
      "text/plain": [
       "correct (generic function with 1 method)"
      ]
     },
     "execution_count": 5,
     "metadata": {},
     "output_type": "execute_result"
    }
   ],
   "source": [
    "#Accuracy Function\n",
    "function correct(Y, Yhat)\n",
    "    return correctrate(round(Int,Y), round(Int,Yhat))\n",
    "end"
   ]
  },
  {
   "cell_type": "code",
   "execution_count": 6,
   "metadata": {
    "collapsed": false
   },
   "outputs": [
    {
     "data": {
      "text/plain": [
       "10-element Array{Float64,1}:\n",
       "    54.9568  \n",
       "    58.0503  \n",
       "    56.8842  \n",
       "    53.1649  \n",
       "    -1.09343 \n",
       "    -1.2604  \n",
       "    -0.961934\n",
       "    -1.16316 \n",
       "   219.141   \n",
       " -3697.73    "
      ]
     },
     "execution_count": 6,
     "metadata": {},
     "output_type": "execute_result"
    }
   ],
   "source": [
    "# Least Square Optimization Function\n",
    "fit = curve_fit(forward, X, Y, W)\n",
    "fit.param"
   ]
  },
  {
   "cell_type": "code",
   "execution_count": 7,
   "metadata": {
    "collapsed": false
   },
   "outputs": [
    {
     "data": {
      "text/plain": [
       "0.954"
      ]
     },
     "execution_count": 7,
     "metadata": {},
     "output_type": "execute_result"
    }
   ],
   "source": [
    "Yhat = forward(X_test,fit.param)\n",
    "correct(Y_test,Yhat)"
   ]
  },
  {
   "cell_type": "markdown",
   "metadata": {},
   "source": [
    "References\n",
    "===="
   ]
  },
  {
   "cell_type": "markdown",
   "metadata": {},
   "source": [
    "[1] http://www.juliaopt.org/  \n",
    "[2] https://github.com/JuliaOpt/LsqFit.jl  \n",
    "[3] https://www.juliabox.org/"
   ]
  }
 ],
 "metadata": {
  "kernelspec": {
   "display_name": "Julia 0.4.0",
   "language": "julia",
   "name": "julia-0.4"
  },
  "language_info": {
   "file_extension": ".jl",
   "mimetype": "application/julia",
   "name": "julia",
   "version": "0.4.0"
  }
 },
 "nbformat": 4,
 "nbformat_minor": 0
}
