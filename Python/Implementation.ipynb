{
 "cells": [
  {
   "cell_type": "markdown",
   "metadata": {},
   "source": [
    "Algorithm Implementation\n",
    "======\n",
    "\n",
    "***Algoritms***\n",
    "\n",
    "1. PCA (Principal Component Analysis)\n",
    "2. CA (Correspondence Analysis)\n",
    "3. MCA (Multiple Correspondence analysis)\n",
    "4. FDA (Factorial Discriminant Analysis)\n",
    "5. DA (Discriminant Analysis) "
   ]
  },
  {
   "cell_type": "code",
   "execution_count": null,
   "metadata": {
    "collapsed": true
   },
   "outputs": [],
   "source": []
  }
 ],
 "metadata": {
  "kernelspec": {
   "display_name": "Python 2",
   "language": "python",
   "name": "python2"
  },
  "language_info": {
   "codemirror_mode": {
    "name": "ipython",
    "version": 2
   },
   "file_extension": ".py",
   "mimetype": "text/x-python",
   "name": "python",
   "nbconvert_exporter": "python",
   "pygments_lexer": "ipython2",
   "version": "2.7.9"
  }
 },
 "nbformat": 4,
 "nbformat_minor": 0
}
